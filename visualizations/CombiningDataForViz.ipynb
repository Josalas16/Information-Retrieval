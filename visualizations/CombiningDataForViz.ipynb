{
 "cells": [
  {
   "cell_type": "code",
   "execution_count": 32,
   "metadata": {},
   "outputs": [],
   "source": [
    "import csv"
   ]
  },
  {
   "cell_type": "code",
   "execution_count": 33,
   "metadata": {},
   "outputs": [],
   "source": [
    "file = open(\"incoming1_march.csv\",\"r\")"
   ]
  },
  {
   "cell_type": "code",
   "execution_count": 34,
   "metadata": {},
   "outputs": [],
   "source": [
    "csv_reader = csv.reader(file)"
   ]
  },
  {
   "cell_type": "code",
   "execution_count": 35,
   "metadata": {},
   "outputs": [],
   "source": [
    "# Save the data for number of flights in march.\n",
    "numFlights = [[0 for i in range(2)] for j in range(31)]\n",
    "numIncoming = [[0 for i in range(2)] for j in range(31)]\n",
    "numOutgoing = [[0 for i in range(2)] for j in range(31)]\n",
    "\n",
    "with open(\"incoming1_march.csv\") as csvfile:\n",
    "    readCSV = csv.reader(csvfile, delimiter=',')\n",
    "    for row in readCSV:\n",
    "        numFlights[int(row[0][6:])-1][0] += 1\n",
    "        numIncoming[int(row[0][6:])-1][0] += 1\n",
    "        numFlights[int(row[0][6:])-1][1] = '3/' + row[0][6:] + '/20'\n",
    "        numIncoming[int(row[0][6:])-1][1] = '3/' + row[0][6:] + '/20'\n",
    "    \n",
    "with open(\"outgoing1_march.csv\") as csvfile:\n",
    "    readCSV = csv.reader(csvfile, delimiter=',')\n",
    "    for row in readCSV:\n",
    "        numFlights[int(row[0][6:])-1][0] += 1\n",
    "        numOutgoing[int(row[0][6:])-1][0] += 1\n",
    "        numOutgoing[int(row[0][6:])-1][1] = '3/' + row[0][6:] + '/20'\n",
    "\n",
    "fields = ['Number of Flights', 'Date']  \n",
    " \n",
    "with open(\"numIncoming_march.csv\", 'w') as csvfile:   \n",
    "    csvwriter = csv.writer(csvfile)   \n",
    "    csvwriter.writerow(fields)   \n",
    "    csvwriter.writerows(numIncoming)\n",
    "    \n",
    "with open(\"numOutgoing_march.csv\", 'w') as csvfile:   \n",
    "    csvwriter = csv.writer(csvfile)   \n",
    "    csvwriter.writerow(fields)   \n",
    "    csvwriter.writerows(numOutgoing)\n",
    "    \n",
    "with open(\"totalFlights_march.csv\", 'w') as csvfile:   \n",
    "    csvwriter = csv.writer(csvfile)   \n",
    "    csvwriter.writerow(fields)   \n",
    "    csvwriter.writerows(numFlights)"
   ]
  },
  {
   "cell_type": "code",
   "execution_count": 36,
   "metadata": {},
   "outputs": [],
   "source": [
    "# Combine the number of flights in march with the number of COVID-19 infections in march.\n",
    "with open('marchInfections.csv','r') as csvinput:\n",
    "    with open('merged.csv', 'w') as csvoutput:\n",
    "        writer = csv.writer(csvoutput, lineterminator='\\n')\n",
    "        reader = csv.reader(csvinput)\n",
    "\n",
    "        all = []\n",
    "        row = next(reader)\n",
    "        row.append('numFlights')\n",
    "        all.append(row)\n",
    "\n",
    "        i = 0\n",
    "        for row in reader:\n",
    "            row.append(numFlights[i][0])\n",
    "            all.append(row)\n",
    "            i += 1\n",
    "        writer.writerows(all)"
   ]
  },
  {
   "cell_type": "code",
   "execution_count": 37,
   "metadata": {},
   "outputs": [],
   "source": [
    "# Save the data for number of flights in July.\n",
    "numFlights = [[0 for i in range(2)] for j in range(31)]\n",
    "numIncoming = [[0 for i in range(2)] for j in range(31)]\n",
    "numOutgoing = [[0 for i in range(2)] for j in range(31)]\n",
    "\n",
    "with open(\"incoming1_july.csv\") as csvfile:\n",
    "    readCSV = csv.reader(csvfile, delimiter=',')\n",
    "    for row in readCSV:\n",
    "        numFlights[int(row[0][6:])-1][0] += 1\n",
    "        numIncoming[int(row[0][6:])-1][0] += 1\n",
    "        numFlights[int(row[0][6:])-1][1] = '7/' + row[0][6:] + '/20'\n",
    "        numIncoming[int(row[0][6:])-1][1] = '7/' + row[0][6:] + '/20'\n",
    "    \n",
    "with open(\"outgoing1_july.csv\") as csvfile:\n",
    "    readCSV = csv.reader(csvfile, delimiter=',')\n",
    "    for row in readCSV:\n",
    "        numFlights[int(row[0][6:])-1][0] += 1\n",
    "        numOutgoing[int(row[0][6:])-1][0] += 1\n",
    "        numOutgoing[int(row[0][6:])-1][1] = '7/' + row[0][6:] + '/20'\n",
    "\n",
    "fields = ['Number of Flights', 'Date']  \n",
    " \n",
    "with open(\"numIncoming_july.csv\", 'w') as csvfile:   \n",
    "    csvwriter = csv.writer(csvfile)   \n",
    "    csvwriter.writerow(fields)   \n",
    "    csvwriter.writerows(numIncoming)\n",
    "    \n",
    "with open(\"numOutgoing_july.csv\", 'w') as csvfile:   \n",
    "    csvwriter = csv.writer(csvfile)   \n",
    "    csvwriter.writerow(fields)   \n",
    "    csvwriter.writerows(numOutgoing)\n",
    "    \n",
    "with open(\"totalFlights_july.csv\", 'w') as csvfile:   \n",
    "    csvwriter = csv.writer(csvfile)   \n",
    "    csvwriter.writerow(fields)   \n",
    "    csvwriter.writerows(numFlights)"
   ]
  },
  {
   "cell_type": "code",
   "execution_count": 38,
   "metadata": {},
   "outputs": [],
   "source": [
    "# Combine the number of flights in july with the number of COVID-19 infections in july.\n",
    "with open('julyInfections.csv','r') as csvinput:\n",
    "    with open('merged2.csv', 'w') as csvoutput:\n",
    "        writer = csv.writer(csvoutput, lineterminator='\\n')\n",
    "        reader = csv.reader(csvinput)\n",
    "\n",
    "        all = []\n",
    "        row = next(reader)\n",
    "        row.append('numFlights')\n",
    "        all.append(row)\n",
    "\n",
    "        i = 0\n",
    "        for row in reader:\n",
    "            row.append(numFlights[i][0])\n",
    "            all.append(row)\n",
    "            i += 1\n",
    "        writer.writerows(all)"
   ]
  },
  {
   "cell_type": "code",
   "execution_count": 39,
   "metadata": {},
   "outputs": [],
   "source": [
    "# Combine the data for march and july.\n",
    "with open('merged.csv','a') as march:\n",
    "    with open('merged2.csv','r') as july:\n",
    "        reader = csv.reader(july)\n",
    "        writer = csv.writer(march)\n",
    "        for row in reader:\n",
    "            if 'Date' not in row:\n",
    "                writer.writerow(row)\n",
    "        #march.write(myCsvRow)"
   ]
  },
  {
   "cell_type": "code",
   "execution_count": null,
   "metadata": {},
   "outputs": [],
   "source": []
  }
 ],
 "metadata": {
  "kernelspec": {
   "display_name": "Python 3",
   "language": "python",
   "name": "python3"
  },
  "language_info": {
   "codemirror_mode": {
    "name": "ipython",
    "version": 3
   },
   "file_extension": ".py",
   "mimetype": "text/x-python",
   "name": "python",
   "nbconvert_exporter": "python",
   "pygments_lexer": "ipython3",
   "version": "3.8.6"
  }
 },
 "nbformat": 4,
 "nbformat_minor": 4
}
